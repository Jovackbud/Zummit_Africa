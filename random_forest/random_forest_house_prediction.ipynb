{
 "cells": [
  {
   "cell_type": "code",
   "execution_count": 3,
   "metadata": {
    "pycharm": {
     "name": "#%%\n"
    }
   },
   "outputs": [],
   "source": [
    "# import possible libraries\n",
    "import matplotlib.pyplot as plt\n",
    "import pandas as pd\n",
    "import seaborn as sns \n",
    "import numpy as np"
   ]
  },
  {
   "cell_type": "code",
   "execution_count": 4,
   "metadata": {
    "pycharm": {
     "name": "#%%\n"
    }
   },
   "outputs": [],
   "source": [
    "# load data\n",
    "df = pd.read_csv('melb_data.csv')"
   ]
  },
  {
   "cell_type": "markdown",
   "metadata": {
    "pycharm": {
     "name": "#%% md\n"
    }
   },
   "source": [
    "## Data exploration"
   ]
  },
  {
   "cell_type": "code",
   "execution_count": 5,
   "metadata": {
    "pycharm": {
     "name": "#%%\n"
    }
   },
   "outputs": [
    {
     "data": {
      "text/plain": "              Suburb        Address  Rooms Type      Price Method   SellerG  \\\n13575  Wheelers Hill   12 Strada Cr      4    h  1245000.0      S     Barry   \n13576   Williamstown  77 Merrett Dr      3    h  1031000.0     SP  Williams   \n13577   Williamstown    83 Power St      3    h  1170000.0      S     Raine   \n13578   Williamstown   96 Verdon St      4    h  2500000.0     PI   Sweeney   \n13579     Yarraville     6 Agnes St      4    h  1285000.0     SP   Village   \n\n             Date  Distance  Postcode  ...  Bathroom  Car  Landsize  \\\n13575  26/08/2017      16.7    3150.0  ...       2.0  2.0     652.0   \n13576  26/08/2017       6.8    3016.0  ...       2.0  2.0     333.0   \n13577  26/08/2017       6.8    3016.0  ...       2.0  4.0     436.0   \n13578  26/08/2017       6.8    3016.0  ...       1.0  5.0     866.0   \n13579  26/08/2017       6.3    3013.0  ...       1.0  1.0     362.0   \n\n       BuildingArea  YearBuilt  CouncilArea Lattitude  Longtitude  \\\n13575           NaN     1981.0          NaN -37.90562   145.16761   \n13576         133.0     1995.0          NaN -37.85927   144.87904   \n13577           NaN     1997.0          NaN -37.85274   144.88738   \n13578         157.0     1920.0          NaN -37.85908   144.89299   \n13579         112.0     1920.0          NaN -37.81188   144.88449   \n\n                       Regionname Propertycount  \n13575  South-Eastern Metropolitan        7392.0  \n13576        Western Metropolitan        6380.0  \n13577        Western Metropolitan        6380.0  \n13578        Western Metropolitan        6380.0  \n13579        Western Metropolitan        6543.0  \n\n[5 rows x 21 columns]",
      "text/html": "<div>\n<style scoped>\n    .dataframe tbody tr th:only-of-type {\n        vertical-align: middle;\n    }\n\n    .dataframe tbody tr th {\n        vertical-align: top;\n    }\n\n    .dataframe thead th {\n        text-align: right;\n    }\n</style>\n<table border=\"1\" class=\"dataframe\">\n  <thead>\n    <tr style=\"text-align: right;\">\n      <th></th>\n      <th>Suburb</th>\n      <th>Address</th>\n      <th>Rooms</th>\n      <th>Type</th>\n      <th>Price</th>\n      <th>Method</th>\n      <th>SellerG</th>\n      <th>Date</th>\n      <th>Distance</th>\n      <th>Postcode</th>\n      <th>...</th>\n      <th>Bathroom</th>\n      <th>Car</th>\n      <th>Landsize</th>\n      <th>BuildingArea</th>\n      <th>YearBuilt</th>\n      <th>CouncilArea</th>\n      <th>Lattitude</th>\n      <th>Longtitude</th>\n      <th>Regionname</th>\n      <th>Propertycount</th>\n    </tr>\n  </thead>\n  <tbody>\n    <tr>\n      <th>13575</th>\n      <td>Wheelers Hill</td>\n      <td>12 Strada Cr</td>\n      <td>4</td>\n      <td>h</td>\n      <td>1245000.0</td>\n      <td>S</td>\n      <td>Barry</td>\n      <td>26/08/2017</td>\n      <td>16.7</td>\n      <td>3150.0</td>\n      <td>...</td>\n      <td>2.0</td>\n      <td>2.0</td>\n      <td>652.0</td>\n      <td>NaN</td>\n      <td>1981.0</td>\n      <td>NaN</td>\n      <td>-37.90562</td>\n      <td>145.16761</td>\n      <td>South-Eastern Metropolitan</td>\n      <td>7392.0</td>\n    </tr>\n    <tr>\n      <th>13576</th>\n      <td>Williamstown</td>\n      <td>77 Merrett Dr</td>\n      <td>3</td>\n      <td>h</td>\n      <td>1031000.0</td>\n      <td>SP</td>\n      <td>Williams</td>\n      <td>26/08/2017</td>\n      <td>6.8</td>\n      <td>3016.0</td>\n      <td>...</td>\n      <td>2.0</td>\n      <td>2.0</td>\n      <td>333.0</td>\n      <td>133.0</td>\n      <td>1995.0</td>\n      <td>NaN</td>\n      <td>-37.85927</td>\n      <td>144.87904</td>\n      <td>Western Metropolitan</td>\n      <td>6380.0</td>\n    </tr>\n    <tr>\n      <th>13577</th>\n      <td>Williamstown</td>\n      <td>83 Power St</td>\n      <td>3</td>\n      <td>h</td>\n      <td>1170000.0</td>\n      <td>S</td>\n      <td>Raine</td>\n      <td>26/08/2017</td>\n      <td>6.8</td>\n      <td>3016.0</td>\n      <td>...</td>\n      <td>2.0</td>\n      <td>4.0</td>\n      <td>436.0</td>\n      <td>NaN</td>\n      <td>1997.0</td>\n      <td>NaN</td>\n      <td>-37.85274</td>\n      <td>144.88738</td>\n      <td>Western Metropolitan</td>\n      <td>6380.0</td>\n    </tr>\n    <tr>\n      <th>13578</th>\n      <td>Williamstown</td>\n      <td>96 Verdon St</td>\n      <td>4</td>\n      <td>h</td>\n      <td>2500000.0</td>\n      <td>PI</td>\n      <td>Sweeney</td>\n      <td>26/08/2017</td>\n      <td>6.8</td>\n      <td>3016.0</td>\n      <td>...</td>\n      <td>1.0</td>\n      <td>5.0</td>\n      <td>866.0</td>\n      <td>157.0</td>\n      <td>1920.0</td>\n      <td>NaN</td>\n      <td>-37.85908</td>\n      <td>144.89299</td>\n      <td>Western Metropolitan</td>\n      <td>6380.0</td>\n    </tr>\n    <tr>\n      <th>13579</th>\n      <td>Yarraville</td>\n      <td>6 Agnes St</td>\n      <td>4</td>\n      <td>h</td>\n      <td>1285000.0</td>\n      <td>SP</td>\n      <td>Village</td>\n      <td>26/08/2017</td>\n      <td>6.3</td>\n      <td>3013.0</td>\n      <td>...</td>\n      <td>1.0</td>\n      <td>1.0</td>\n      <td>362.0</td>\n      <td>112.0</td>\n      <td>1920.0</td>\n      <td>NaN</td>\n      <td>-37.81188</td>\n      <td>144.88449</td>\n      <td>Western Metropolitan</td>\n      <td>6543.0</td>\n    </tr>\n  </tbody>\n</table>\n<p>5 rows × 21 columns</p>\n</div>"
     },
     "execution_count": 5,
     "metadata": {},
     "output_type": "execute_result"
    }
   ],
   "source": [
    "# check part of the data frame\n",
    "df.tail()"
   ]
  },
  {
   "cell_type": "code",
   "execution_count": 6,
   "metadata": {
    "pycharm": {
     "name": "#%%\n"
    }
   },
   "outputs": [
    {
     "name": "stdout",
     "output_type": "stream",
     "text": [
      "<class 'pandas.core.frame.DataFrame'>\n",
      "RangeIndex: 13580 entries, 0 to 13579\n",
      "Data columns (total 21 columns):\n",
      " #   Column         Non-Null Count  Dtype  \n",
      "---  ------         --------------  -----  \n",
      " 0   Suburb         13580 non-null  object \n",
      " 1   Address        13580 non-null  object \n",
      " 2   Rooms          13580 non-null  int64  \n",
      " 3   Type           13580 non-null  object \n",
      " 4   Price          13580 non-null  float64\n",
      " 5   Method         13580 non-null  object \n",
      " 6   SellerG        13580 non-null  object \n",
      " 7   Date           13580 non-null  object \n",
      " 8   Distance       13580 non-null  float64\n",
      " 9   Postcode       13580 non-null  float64\n",
      " 10  Bedroom2       13580 non-null  float64\n",
      " 11  Bathroom       13580 non-null  float64\n",
      " 12  Car            13518 non-null  float64\n",
      " 13  Landsize       13580 non-null  float64\n",
      " 14  BuildingArea   7130 non-null   float64\n",
      " 15  YearBuilt      8205 non-null   float64\n",
      " 16  CouncilArea    12211 non-null  object \n",
      " 17  Lattitude      13580 non-null  float64\n",
      " 18  Longtitude     13580 non-null  float64\n",
      " 19  Regionname     13580 non-null  object \n",
      " 20  Propertycount  13580 non-null  float64\n",
      "dtypes: float64(12), int64(1), object(8)\n",
      "memory usage: 2.2+ MB\n"
     ]
    }
   ],
   "source": [
    "# check info\n",
    "df.info()"
   ]
  },
  {
   "cell_type": "code",
   "execution_count": 7,
   "metadata": {
    "pycharm": {
     "name": "#%%\n"
    }
   },
   "outputs": [
    {
     "data": {
      "text/plain": "Suburb           314\nAddress        13378\nType               3\nMethod             5\nSellerG          268\nDate              58\nCouncilArea       33\nRegionname         8\ndtype: int64"
     },
     "execution_count": 7,
     "metadata": {},
     "output_type": "execute_result"
    }
   ],
   "source": [
    "# check number of unique variables for every object dtype column\n",
    "object_cols = df.select_dtypes(include='O')\n",
    "object_cols.nunique()"
   ]
  },
  {
   "cell_type": "code",
   "execution_count": 8,
   "metadata": {
    "pycharm": {
     "name": "#%%\n"
    }
   },
   "outputs": [
    {
     "data": {
      "text/plain": "Rooms               9\nPrice            2204\nDistance          202\nPostcode          198\nBedroom2           12\nBathroom            9\nCar                11\nLandsize         1448\nBuildingArea      602\nYearBuilt         144\nLattitude        6503\nLongtitude       7063\nPropertycount     311\ndtype: int64"
     },
     "execution_count": 8,
     "metadata": {},
     "output_type": "execute_result"
    }
   ],
   "source": [
    "# check number of unique variables for every numeric (integer and float) dtype column\n",
    "numeric_cols = df.select_dtypes(exclude='O')\n",
    "numeric_cols.nunique()"
   ]
  },
  {
   "cell_type": "code",
   "execution_count": 9,
   "metadata": {
    "pycharm": {
     "name": "#%%\n"
    }
   },
   "outputs": [
    {
     "data": {
      "text/plain": "<AxesSubplot:xlabel='Postcode', ylabel='Price'>"
     },
     "execution_count": 9,
     "metadata": {},
     "output_type": "execute_result"
    },
    {
     "data": {
      "text/plain": "<Figure size 432x288 with 1 Axes>",
      "image/png": "[encoded data removed]"
     },
     "metadata": {},
     "output_type": "display_data"
    }
   ],
   "source": [
    "# scatterplot of Postcode and price to see if there is any relationship\n",
    "sns.scatterplot(data=df, x=df['Postcode'], y=df['Price'])"
   ]
  },
  {
   "cell_type": "code",
   "execution_count": 10,
   "metadata": {
    "pycharm": {
     "name": "#%%\n"
    }
   },
   "outputs": [
    {
     "data": {
      "text/plain": "                 count          mean            std          min  \\\nRooms          13580.0  2.937997e+00       0.955748      1.00000   \nPrice          13580.0  1.075684e+06  639310.724296  85000.00000   \nDistance       13580.0  1.013778e+01       5.868725      0.00000   \nPostcode       13580.0  3.105302e+03      90.676964   3000.00000   \nBedroom2       13580.0  2.914728e+00       0.965921      0.00000   \nBathroom       13580.0  1.534242e+00       0.691712      0.00000   \nCar            13518.0  1.610075e+00       0.962634      0.00000   \nLandsize       13580.0  5.584161e+02    3990.669241      0.00000   \nBuildingArea    7130.0  1.519676e+02     541.014538      0.00000   \nYearBuilt       8205.0  1.964684e+03      37.273762   1196.00000   \nLattitude      13580.0 -3.780920e+01       0.079260    -38.18255   \nLongtitude     13580.0  1.449952e+02       0.103916    144.43181   \nPropertycount  13580.0  7.454417e+03    4378.581772    249.00000   \n\n                         25%            50%           75%           max  \nRooms               2.000000       3.000000  3.000000e+00  1.000000e+01  \nPrice          650000.000000  903000.000000  1.330000e+06  9.000000e+06  \nDistance            6.100000       9.200000  1.300000e+01  4.810000e+01  \nPostcode         3044.000000    3084.000000  3.148000e+03  3.977000e+03  \nBedroom2            2.000000       3.000000  3.000000e+00  2.000000e+01  \nBathroom            1.000000       1.000000  2.000000e+00  8.000000e+00  \nCar                 1.000000       2.000000  2.000000e+00  1.000000e+01  \nLandsize          177.000000     440.000000  6.510000e+02  4.330140e+05  \nBuildingArea       93.000000     126.000000  1.740000e+02  4.451500e+04  \nYearBuilt        1940.000000    1970.000000  1.999000e+03  2.018000e+03  \nLattitude         -37.856822     -37.802355 -3.775640e+01 -3.740853e+01  \nLongtitude        144.929600     145.000100  1.450583e+02  1.455264e+02  \nPropertycount    4380.000000    6555.000000  1.033100e+04  2.165000e+04  ",
      "text/html": "<div>\n<style scoped>\n    .dataframe tbody tr th:only-of-type {\n        vertical-align: middle;\n    }\n\n    .dataframe tbody tr th {\n        vertical-align: top;\n    }\n\n    .dataframe thead th {\n        text-align: right;\n    }\n</style>\n<table border=\"1\" class=\"dataframe\">\n  <thead>\n    <tr style=\"text-align: right;\">\n      <th></th>\n      <th>count</th>\n      <th>mean</th>\n      <th>std</th>\n      <th>min</th>\n      <th>25%</th>\n      <th>50%</th>\n      <th>75%</th>\n      <th>max</th>\n    </tr>\n  </thead>\n  <tbody>\n    <tr>\n      <th>Rooms</th>\n      <td>13580.0</td>\n      <td>2.937997e+00</td>\n      <td>0.955748</td>\n      <td>1.00000</td>\n      <td>2.000000</td>\n      <td>3.000000</td>\n      <td>3.000000e+00</td>\n      <td>1.000000e+01</td>\n    </tr>\n    <tr>\n      <th>Price</th>\n      <td>13580.0</td>\n      <td>1.075684e+06</td>\n      <td>639310.724296</td>\n      <td>85000.00000</td>\n      <td>650000.000000</td>\n      <td>903000.000000</td>\n      <td>1.330000e+06</td>\n      <td>9.000000e+06</td>\n    </tr>\n    <tr>\n      <th>Distance</th>\n      <td>13580.0</td>\n      <td>1.013778e+01</td>\n      <td>5.868725</td>\n      <td>0.00000</td>\n      <td>6.100000</td>\n      <td>9.200000</td>\n      <td>1.300000e+01</td>\n      <td>4.810000e+01</td>\n    </tr>\n    <tr>\n      <th>Postcode</th>\n      <td>13580.0</td>\n      <td>3.105302e+03</td>\n      <td>90.676964</td>\n      <td>3000.00000</td>\n      <td>3044.000000</td>\n      <td>3084.000000</td>\n      <td>3.148000e+03</td>\n      <td>3.977000e+03</td>\n    </tr>\n    <tr>\n      <th>Bedroom2</th>\n      <td>13580.0</td>\n      <td>2.914728e+00</td>\n      <td>0.965921</td>\n      <td>0.00000</td>\n      <td>2.000000</td>\n      <td>3.000000</td>\n      <td>3.000000e+00</td>\n      <td>2.000000e+01</td>\n    </tr>\n    <tr>\n      <th>Bathroom</th>\n      <td>13580.0</td>\n      <td>1.534242e+00</td>\n      <td>0.691712</td>\n      <td>0.00000</td>\n      <td>1.000000</td>\n      <td>1.000000</td>\n      <td>2.000000e+00</td>\n      <td>8.000000e+00</td>\n    </tr>\n    <tr>\n      <th>Car</th>\n      <td>13518.0</td>\n      <td>1.610075e+00</td>\n      <td>0.962634</td>\n      <td>0.00000</td>\n      <td>1.000000</td>\n      <td>2.000000</td>\n      <td>2.000000e+00</td>\n      <td>1.000000e+01</td>\n    </tr>\n    <tr>\n      <th>Landsize</th>\n      <td>13580.0</td>\n      <td>5.584161e+02</td>\n      <td>3990.669241</td>\n      <td>0.00000</td>\n      <td>177.000000</td>\n      <td>440.000000</td>\n      <td>6.510000e+02</td>\n      <td>4.330140e+05</td>\n    </tr>\n    <tr>\n      <th>BuildingArea</th>\n      <td>7130.0</td>\n      <td>1.519676e+02</td>\n      <td>541.014538</td>\n      <td>0.00000</td>\n      <td>93.000000</td>\n      <td>126.000000</td>\n      <td>1.740000e+02</td>\n      <td>4.451500e+04</td>\n    </tr>\n    <tr>\n      <th>YearBuilt</th>\n      <td>8205.0</td>\n      <td>1.964684e+03</td>\n      <td>37.273762</td>\n      <td>1196.00000</td>\n      <td>1940.000000</td>\n      <td>1970.000000</td>\n      <td>1.999000e+03</td>\n      <td>2.018000e+03</td>\n    </tr>\n    <tr>\n      <th>Lattitude</th>\n      <td>13580.0</td>\n      <td>-3.780920e+01</td>\n      <td>0.079260</td>\n      <td>-38.18255</td>\n      <td>-37.856822</td>\n      <td>-37.802355</td>\n      <td>-3.775640e+01</td>\n      <td>-3.740853e+01</td>\n    </tr>\n    <tr>\n      <th>Longtitude</th>\n      <td>13580.0</td>\n      <td>1.449952e+02</td>\n      <td>0.103916</td>\n      <td>144.43181</td>\n      <td>144.929600</td>\n      <td>145.000100</td>\n      <td>1.450583e+02</td>\n      <td>1.455264e+02</td>\n    </tr>\n    <tr>\n      <th>Propertycount</th>\n      <td>13580.0</td>\n      <td>7.454417e+03</td>\n      <td>4378.581772</td>\n      <td>249.00000</td>\n      <td>4380.000000</td>\n      <td>6555.000000</td>\n      <td>1.033100e+04</td>\n      <td>2.165000e+04</td>\n    </tr>\n  </tbody>\n</table>\n</div>"
     },
     "execution_count": 10,
     "metadata": {},
     "output_type": "execute_result"
    }
   ],
   "source": [
    "# data description, transposed for ease of viewing\n",
    "df.describe().transpose()"
   ]
  },
  {
   "cell_type": "code",
   "execution_count": 11,
   "metadata": {
    "pycharm": {
     "name": "#%%\n"
    }
   },
   "outputs": [
    {
     "data": {
      "text/plain": "151.96764988779805"
     },
     "execution_count": 11,
     "metadata": {},
     "output_type": "execute_result"
    }
   ],
   "source": [
    "# checking the building area mean to decide if I can fillna in it with mean\n",
    "df['BuildingArea'].mean()"
   ]
  },
  {
   "cell_type": "code",
   "execution_count": 12,
   "metadata": {
    "pycharm": {
     "name": "#%%\n"
    }
   },
   "outputs": [
    {
     "data": {
      "text/plain": "Rooms             32.530596\nPrice             59.432945\nDistance          57.889668\nPostcode           2.920069\nBedroom2          33.139326\nBathroom          45.084930\nCar               59.788100\nLandsize         714.640758\nBuildingArea     356.006386\nYearBuilt          1.897188\nLattitude         -0.209631\nLongtitude         0.071668\nPropertycount     58.738082\ndtype: float64"
     },
     "execution_count": 12,
     "metadata": {},
     "output_type": "execute_result"
    }
   ],
   "source": [
    "# checking coefficient of variance\n",
    "desc_stats = df.describe().transpose()\n",
    "corr_variance = (desc_stats['std']/desc_stats['mean'])*100\n",
    "corr_variance"
   ]
  },
  {
   "cell_type": "raw",
   "metadata": {
    "pycharm": {
     "name": "#%% raw\n"
    }
   },
   "source": [
    "•\tI will engineer a feature for streets from the address, drop the address column and use the streets if the number of unique streets is reasonable ---done:\n",
    "•\tEach name in the seller column averages out to about 50 properties and may be worth exploring instead of just dropping at first sight. (13580/268=50.67)\n",
    "•\tI will use the date of transaction to engineer transaction age and month of transaction (in case there is a seasonal trend to the sale price) respectively, then drop the date of transaction column ---done:\n",
    "•\tScatterplot of price and post code indicates prices are clustered according to postcode and will therefore be used as a feature ---done\n",
    "•\tI know the meaning and implication of standard deviation but need to check out how to mathematically decide the standard deviation is appropriate for the column of data ---done: correlation of variance\n",
    "•\tYear built and building area are about 60 and 52 percent of data respectively. I will need to drop year built and probably fill missing ones in the building area column if the mean and standard deviation are reasonable. I could attempt to fill the, using a linear regression model though ---done: removed those\n",
    "•\tThe standard deviation of the Building Area is too large and will be unwise to fill it with the mean which is significantly lower as that will normalize the data too much.\n",
    "•\tI need to find out what latitude and longitude data can be used to engineer. For instance, a single variable that reflects both of them instead of just throwing them out. ---done: there is Distance feature already"
   ]
  },
  {
   "cell_type": "markdown",
   "metadata": {
    "pycharm": {
     "name": "#%% md\n"
    }
   },
   "source": [
    "## Feature Engineering"
   ]
  },
  {
   "cell_type": "code",
   "execution_count": 13,
   "metadata": {
    "pycharm": {
     "name": "#%%\n"
    }
   },
   "outputs": [],
   "source": [
    "# create the necessary feature columns\n",
    "df['Street'] = df['Address'].apply(lambda x:x.split()[-2])\n",
    "\n",
    "from datetime import datetime as dt\n",
    "df['MonthofTransaction'] = df['Date'].apply(lambda x: x.split('/')[-2])\n",
    "df['MonthofTransaction'] = pd.to_numeric(df['MonthofTransaction'])\n",
    "\n",
    "df['YearofTransaction'] = df['Date'].apply(lambda x: x.split('/')[-1])\n",
    "df['YearofTransaction'] = pd.to_numeric(df['YearofTransaction'])\n",
    "\n",
    "this_year = dt.now().year\n",
    "df['TransactionAge'] = this_year - df['YearofTransaction']"
   ]
  },
  {
   "cell_type": "code",
   "execution_count": 14,
   "metadata": {
    "pycharm": {
     "name": "#%%\n"
    }
   },
   "outputs": [
    {
     "data": {
      "text/plain": "4124"
     },
     "execution_count": 14,
     "metadata": {},
     "output_type": "execute_result"
    }
   ],
   "source": [
    "# checking the number of unique variables in the street column\n",
    "df['Street'].nunique()"
   ]
  },
  {
   "cell_type": "code",
   "execution_count": 15,
   "metadata": {
    "pycharm": {
     "name": "#%%\n"
    }
   },
   "outputs": [
    {
     "data": {
      "text/plain": "Index(['Rooms', 'Type', 'Price', 'Method', 'Distance', 'Postcode', 'Bedroom2',\n       'Bathroom', 'Car', 'Landsize', 'CouncilArea', 'Regionname',\n       'Propertycount', 'MonthofTransaction', 'TransactionAge'],\n      dtype='object')"
     },
     "execution_count": 15,
     "metadata": {},
     "output_type": "execute_result"
    }
   ],
   "source": [
    "# drop features that are undesirable\n",
    "df.drop(['Address', 'Date', 'YearBuilt', 'BuildingArea', 'Lattitude', 'Longtitude',\n",
    "         'YearofTransaction', 'Street', 'Suburb', 'SellerG'], axis=1, inplace=True)\n",
    "df.columns"
   ]
  },
  {
   "cell_type": "code",
   "execution_count": 16,
   "metadata": {
    "pycharm": {
     "name": "#%%\n"
    }
   },
   "outputs": [],
   "source": [
    "# manually map feature columns to numbers\n",
    "type_map = {'h':1, 'u':2, 't':3}\n",
    "df['Type'] = df['Type'].map(lambda x: type_map.get(x))\n",
    "\n",
    "method_map = {'S':1, 'SP':2, 'PI':3, 'VB':4, 'SA':5}\n",
    "df['Method'] = df['Method'].map(lambda x: method_map.get(x))\n",
    "\n",
    "\n",
    "region_map = {'Northern Metropolitan':1, 'Western Metropolitan':2, 'Southern Metropolitan':3, 'Eastern Metropolitan':4,\n",
    "        'South-Eastern Metropolitan':5, 'Eastern Victoria':6, 'Northern Victoria':7, 'Western Victoria':8}\n",
    "df['Regionname'] = df['Regionname'].map(lambda x: region_map.get(x))\n",
    "df['Regionname'].head()\n",
    "\n",
    "council_map = {'Yarra':1, 'Moonee Valley':2, 'Port Phillip':3, 'Darebin':4, 'Hobsons Bay':5, 'Stonnington':6, 'Boroondara':7,\n",
    "               'Monash':8, 'Glen Eira':9, 'Whitehorse':10, 'Maribyrnong':11, 'Bayside':12, 'Moreland':13, 'Manningham':14,\n",
    "               'Banyule':15, 'Melbourne':16, 'Kingston':17, 'Brimbank':18, 'Hume':19, 'Knox':20, 'Maroondah':21,\n",
    "               'Casey':22, 'Melton':23, 'Greater Dandenong':24, 'Nillumbik':25, 'Whittlesea':26, 'Frankston':27, 'Macedon Ranges':28,\n",
    "               'Yarra Ranges':29, 'Wyndham':30, 'Cardinia':31, 'Unavailable':33, 'Moorabool':32}\n",
    "df['CouncilArea'] = df['CouncilArea'].map(lambda x: council_map.get(x))"
   ]
  },
  {
   "cell_type": "code",
   "execution_count": 17,
   "metadata": {
    "pycharm": {
     "name": "#%%\n"
    }
   },
   "outputs": [],
   "source": [
    "# drop missing columns\n",
    "df.dropna(inplace=True)"
   ]
  },
  {
   "cell_type": "code",
   "execution_count": 18,
   "metadata": {
    "pycharm": {
     "name": "#%%\n"
    }
   },
   "outputs": [],
   "source": [
    "# split into dependent and independent variables\n",
    "X = df.drop('Price', axis=1)\n",
    "y = df['Price']"
   ]
  },
  {
   "cell_type": "code",
   "execution_count": 19,
   "metadata": {
    "pycharm": {
     "name": "#%%\n"
    }
   },
   "outputs": [],
   "source": [
    "# import scaler, instantiate and transform the feature variables\n",
    "from sklearn.preprocessing import RobustScaler\n",
    "scaler = RobustScaler()\n",
    "X = scaler.fit_transform(X)"
   ]
  },
  {
   "cell_type": "code",
   "execution_count": 20,
   "metadata": {
    "pycharm": {
     "name": "#%%\n"
    }
   },
   "outputs": [],
   "source": [
    "# import train test split, set seed, and split into train, test and validation sets\n",
    "from sklearn.model_selection import train_test_split\n",
    "seed = 1"
   ]
  },
  {
   "cell_type": "code",
   "execution_count": 21,
   "metadata": {
    "pycharm": {
     "name": "#%%\n"
    }
   },
   "outputs": [],
   "source": [
    "X_train, X_test, y_train, y_test = train_test_split(X, y, test_size=0.4, random_state=seed)\n",
    "X_val, X_test, y_val, y_test = train_test_split(X, y, test_size=0.5, random_state=seed)"
   ]
  },
  {
   "cell_type": "code",
   "execution_count": 22,
   "metadata": {
    "pycharm": {
     "name": "#%%\n"
    }
   },
   "outputs": [],
   "source": [
    "# import and instantiate RandomforestRegressor\n",
    "from sklearn.ensemble import RandomForestRegressor"
   ]
  },
  {
   "cell_type": "code",
   "execution_count": 23,
   "metadata": {
    "pycharm": {
     "name": "#%%\n"
    }
   },
   "outputs": [],
   "source": [
    "model = RandomForestRegressor(random_state=seed)"
   ]
  },
  {
   "cell_type": "code",
   "execution_count": 24,
   "metadata": {
    "pycharm": {
     "name": "#%%\n"
    }
   },
   "outputs": [
    {
     "data": {
      "text/plain": "RandomForestRegressor(random_state=1)"
     },
     "execution_count": 24,
     "metadata": {},
     "output_type": "execute_result"
    }
   ],
   "source": [
    "# train model\n",
    "model.fit(X_train,y_train)"
   ]
  },
  {
   "cell_type": "code",
   "execution_count": 25,
   "metadata": {
    "pycharm": {
     "name": "#%%\n"
    }
   },
   "outputs": [],
   "source": [
    "# predict using the model\n",
    "y_pred0 = model.predict(X_test)"
   ]
  },
  {
   "cell_type": "code",
   "execution_count": 26,
   "metadata": {
    "pycharm": {
     "name": "#%%\n"
    }
   },
   "outputs": [],
   "source": [
    "# import metrics and check the metrics\n",
    "from sklearn.metrics import mean_absolute_error, mean_squared_error"
   ]
  },
  {
   "cell_type": "code",
   "execution_count": 27,
   "metadata": {
    "pycharm": {
     "name": "#%%\n"
    }
   },
   "outputs": [
    {
     "data": {
      "text/plain": "(154582.67975054722, 262915.0073114133)"
     },
     "execution_count": 27,
     "metadata": {},
     "output_type": "execute_result"
    }
   ],
   "source": [
    "mae = mean_absolute_error(y_test, y_pred0)\n",
    "rmse = np.sqrt(mean_squared_error(y_test, y_pred0))\n",
    "mae, rmse"
   ]
  },
  {
   "cell_type": "markdown",
   "metadata": {
    "pycharm": {
     "name": "#%% md\n"
    }
   },
   "source": [
    "high rmse indicates the model was wrong by a large gap when it was wrong. I will try to touch the hyperparameters to get some improvement"
   ]
  },
  {
   "cell_type": "code",
   "execution_count": 28,
   "metadata": {
    "pycharm": {
     "name": "#%%\n"
    }
   },
   "outputs": [
    {
     "data": {
      "text/plain": "14.532655915824586"
     },
     "execution_count": 28,
     "metadata": {},
     "output_type": "execute_result"
    }
   ],
   "source": [
    "(mae/df['Price'].mean())*100"
   ]
  },
  {
   "cell_type": "code",
   "execution_count": 30,
   "outputs": [],
   "source": [
    "# Use gridsearch to find best parameters\n",
    "from sklearn.model_selection import GridSearchCV"
   ],
   "metadata": {
    "collapsed": false,
    "pycharm": {
     "name": "#%%\n"
    }
   }
  },
  {
   "cell_type": "code",
   "execution_count": 35,
   "outputs": [],
   "source": [
    "n_estimators=[50,100,150,200]\n",
    "max_features= [2,3,4]\n",
    "bootstrap = [True,False]\n",
    "oob_score = [True,False]"
   ],
   "metadata": {
    "collapsed": false,
    "pycharm": {
     "name": "#%%\n"
    }
   }
  },
  {
   "cell_type": "code",
   "execution_count": 36,
   "outputs": [],
   "source": [
    "param_grid = {'n_estimators':n_estimators,\n",
    "             'max_features':max_features,\n",
    "             'bootstrap':bootstrap,\n",
    "             'oob_score':oob_score}"
   ],
   "metadata": {
    "collapsed": false,
    "pycharm": {
     "name": "#%%\n"
    }
   }
  },
  {
   "cell_type": "code",
   "execution_count": 37,
   "outputs": [],
   "source": [
    "grid = GridSearchCV(model,param_grid)"
   ],
   "metadata": {
    "collapsed": false,
    "pycharm": {
     "name": "#%%\n"
    }
   }
  },
  {
   "cell_type": "code",
   "execution_count": null,
   "outputs": [
    {
     "name": "stderr",
     "output_type": "stream",
     "text": [
      "C:\\Users\\User\\anaconda3\\lib\\site-packages\\sklearn\\model_selection\\_validation.py:548: FitFailedWarning: Estimator fit failed. The score on this train-test partition for these parameters will be set to nan. Details: \n",
      "Traceback (most recent call last):\n",
      "  File \"C:\\Users\\User\\anaconda3\\lib\\site-packages\\sklearn\\model_selection\\_validation.py\", line 531, in _fit_and_score\n",
      "    estimator.fit(X_train, y_train, **fit_params)\n",
      "  File \"C:\\Users\\User\\anaconda3\\lib\\site-packages\\sklearn\\ensemble\\_forest.py\", line 351, in fit\n",
      "    raise ValueError(\"Out of bag estimation only available\"\n",
      "ValueError: Out of bag estimation only available if bootstrap=True\n",
      "\n",
      "  warnings.warn(\"Estimator fit failed. The score on this train-test\"\n",
      "C:\\Users\\User\\anaconda3\\lib\\site-packages\\sklearn\\model_selection\\_validation.py:548: FitFailedWarning: Estimator fit failed. The score on this train-test partition for these parameters will be set to nan. Details: \n",
      "Traceback (most recent call last):\n",
      "  File \"C:\\Users\\User\\anaconda3\\lib\\site-packages\\sklearn\\model_selection\\_validation.py\", line 531, in _fit_and_score\n",
      "    estimator.fit(X_train, y_train, **fit_params)\n",
      "  File \"C:\\Users\\User\\anaconda3\\lib\\site-packages\\sklearn\\ensemble\\_forest.py\", line 351, in fit\n",
      "    raise ValueError(\"Out of bag estimation only available\"\n",
      "ValueError: Out of bag estimation only available if bootstrap=True\n",
      "\n",
      "  warnings.warn(\"Estimator fit failed. The score on this train-test\"\n",
      "C:\\Users\\User\\anaconda3\\lib\\site-packages\\sklearn\\model_selection\\_validation.py:548: FitFailedWarning: Estimator fit failed. The score on this train-test partition for these parameters will be set to nan. Details: \n",
      "Traceback (most recent call last):\n",
      "  File \"C:\\Users\\User\\anaconda3\\lib\\site-packages\\sklearn\\model_selection\\_validation.py\", line 531, in _fit_and_score\n",
      "    estimator.fit(X_train, y_train, **fit_params)\n",
      "  File \"C:\\Users\\User\\anaconda3\\lib\\site-packages\\sklearn\\ensemble\\_forest.py\", line 351, in fit\n",
      "    raise ValueError(\"Out of bag estimation only available\"\n",
      "ValueError: Out of bag estimation only available if bootstrap=True\n",
      "\n",
      "  warnings.warn(\"Estimator fit failed. The score on this train-test\"\n",
      "C:\\Users\\User\\anaconda3\\lib\\site-packages\\sklearn\\model_selection\\_validation.py:548: FitFailedWarning: Estimator fit failed. The score on this train-test partition for these parameters will be set to nan. Details: \n",
      "Traceback (most recent call last):\n",
      "  File \"C:\\Users\\User\\anaconda3\\lib\\site-packages\\sklearn\\model_selection\\_validation.py\", line 531, in _fit_and_score\n",
      "    estimator.fit(X_train, y_train, **fit_params)\n",
      "  File \"C:\\Users\\User\\anaconda3\\lib\\site-packages\\sklearn\\ensemble\\_forest.py\", line 351, in fit\n",
      "    raise ValueError(\"Out of bag estimation only available\"\n",
      "ValueError: Out of bag estimation only available if bootstrap=True\n",
      "\n",
      "  warnings.warn(\"Estimator fit failed. The score on this train-test\"\n",
      "C:\\Users\\User\\anaconda3\\lib\\site-packages\\sklearn\\model_selection\\_validation.py:548: FitFailedWarning: Estimator fit failed. The score on this train-test partition for these parameters will be set to nan. Details: \n",
      "Traceback (most recent call last):\n",
      "  File \"C:\\Users\\User\\anaconda3\\lib\\site-packages\\sklearn\\model_selection\\_validation.py\", line 531, in _fit_and_score\n",
      "    estimator.fit(X_train, y_train, **fit_params)\n",
      "  File \"C:\\Users\\User\\anaconda3\\lib\\site-packages\\sklearn\\ensemble\\_forest.py\", line 351, in fit\n",
      "    raise ValueError(\"Out of bag estimation only available\"\n",
      "ValueError: Out of bag estimation only available if bootstrap=True\n",
      "\n",
      "  warnings.warn(\"Estimator fit failed. The score on this train-test\"\n",
      "C:\\Users\\User\\anaconda3\\lib\\site-packages\\sklearn\\model_selection\\_validation.py:548: FitFailedWarning: Estimator fit failed. The score on this train-test partition for these parameters will be set to nan. Details: \n",
      "Traceback (most recent call last):\n",
      "  File \"C:\\Users\\User\\anaconda3\\lib\\site-packages\\sklearn\\model_selection\\_validation.py\", line 531, in _fit_and_score\n",
      "    estimator.fit(X_train, y_train, **fit_params)\n",
      "  File \"C:\\Users\\User\\anaconda3\\lib\\site-packages\\sklearn\\ensemble\\_forest.py\", line 351, in fit\n",
      "    raise ValueError(\"Out of bag estimation only available\"\n",
      "ValueError: Out of bag estimation only available if bootstrap=True\n",
      "\n",
      "  warnings.warn(\"Estimator fit failed. The score on this train-test\"\n",
      "C:\\Users\\User\\anaconda3\\lib\\site-packages\\sklearn\\model_selection\\_validation.py:548: FitFailedWarning: Estimator fit failed. The score on this train-test partition for these parameters will be set to nan. Details: \n",
      "Traceback (most recent call last):\n",
      "  File \"C:\\Users\\User\\anaconda3\\lib\\site-packages\\sklearn\\model_selection\\_validation.py\", line 531, in _fit_and_score\n",
      "    estimator.fit(X_train, y_train, **fit_params)\n",
      "  File \"C:\\Users\\User\\anaconda3\\lib\\site-packages\\sklearn\\ensemble\\_forest.py\", line 351, in fit\n",
      "    raise ValueError(\"Out of bag estimation only available\"\n",
      "ValueError: Out of bag estimation only available if bootstrap=True\n",
      "\n",
      "  warnings.warn(\"Estimator fit failed. The score on this train-test\"\n",
      "C:\\Users\\User\\anaconda3\\lib\\site-packages\\sklearn\\model_selection\\_validation.py:548: FitFailedWarning: Estimator fit failed. The score on this train-test partition for these parameters will be set to nan. Details: \n",
      "Traceback (most recent call last):\n",
      "  File \"C:\\Users\\User\\anaconda3\\lib\\site-packages\\sklearn\\model_selection\\_validation.py\", line 531, in _fit_and_score\n",
      "    estimator.fit(X_train, y_train, **fit_params)\n",
      "  File \"C:\\Users\\User\\anaconda3\\lib\\site-packages\\sklearn\\ensemble\\_forest.py\", line 351, in fit\n",
      "    raise ValueError(\"Out of bag estimation only available\"\n",
      "ValueError: Out of bag estimation only available if bootstrap=True\n",
      "\n",
      "  warnings.warn(\"Estimator fit failed. The score on this train-test\"\n",
      "C:\\Users\\User\\anaconda3\\lib\\site-packages\\sklearn\\model_selection\\_validation.py:548: FitFailedWarning: Estimator fit failed. The score on this train-test partition for these parameters will be set to nan. Details: \n",
      "Traceback (most recent call last):\n",
      "  File \"C:\\Users\\User\\anaconda3\\lib\\site-packages\\sklearn\\model_selection\\_validation.py\", line 531, in _fit_and_score\n",
      "    estimator.fit(X_train, y_train, **fit_params)\n",
      "  File \"C:\\Users\\User\\anaconda3\\lib\\site-packages\\sklearn\\ensemble\\_forest.py\", line 351, in fit\n",
      "    raise ValueError(\"Out of bag estimation only available\"\n",
      "ValueError: Out of bag estimation only available if bootstrap=True\n",
      "\n",
      "  warnings.warn(\"Estimator fit failed. The score on this train-test\"\n",
      "C:\\Users\\User\\anaconda3\\lib\\site-packages\\sklearn\\model_selection\\_validation.py:548: FitFailedWarning: Estimator fit failed. The score on this train-test partition for these parameters will be set to nan. Details: \n",
      "Traceback (most recent call last):\n",
      "  File \"C:\\Users\\User\\anaconda3\\lib\\site-packages\\sklearn\\model_selection\\_validation.py\", line 531, in _fit_and_score\n",
      "    estimator.fit(X_train, y_train, **fit_params)\n",
      "  File \"C:\\Users\\User\\anaconda3\\lib\\site-packages\\sklearn\\ensemble\\_forest.py\", line 351, in fit\n",
      "    raise ValueError(\"Out of bag estimation only available\"\n",
      "ValueError: Out of bag estimation only available if bootstrap=True\n",
      "\n",
      "  warnings.warn(\"Estimator fit failed. The score on this train-test\"\n"
     ]
    }
   ],
   "source": [
    "grid.fit(X_train,y_train)"
   ],
   "metadata": {
    "collapsed": false,
    "pycharm": {
     "name": "#%%\n",
     "is_executing": true
    }
   }
  },
  {
   "cell_type": "code",
   "execution_count": null,
   "outputs": [],
   "source": [],
   "metadata": {
    "collapsed": false,
    "pycharm": {
     "name": "#%%\n"
    }
   }
  }
 ],
 "metadata": {
  "kernelspec": {
   "display_name": "Python 3",
   "language": "python",
   "name": "python3"
  },
  "language_info": {
   "codemirror_mode": {
    "name": "ipython",
    "version": 3
   },
   "file_extension": ".py",
   "mimetype": "text/x-python",
   "name": "python",
   "nbconvert_exporter": "python",
   "pygments_lexer": "ipython3",
   "version": "3.8.5"
  }
 },
 "nbformat": 4,
 "nbformat_minor": 4
}