{
 "cells": [
  {
   "cell_type": "code",
   "execution_count": 1,
   "metadata": {
    "collapsed": true,
    "pycharm": {
     "name": "#%%\n"
    }
   },
   "outputs": [],
   "source": [
    "import pandas as pd"
   ]
  },
  {
   "cell_type": "code",
   "execution_count": 2,
   "outputs": [
    {
     "data": {
      "text/plain": "  First Name Last name  Age Residential State\n0        Ada      Anan   19        California\n1      Bukky     Edgar   28          New York\n2     Carlos     Inios   37           Florida\n3      Devon      Osea   46           Montana\n4        Het       Ung   55            Alaska",
      "text/html": "<div>\n<style scoped>\n    .dataframe tbody tr th:only-of-type {\n        vertical-align: middle;\n    }\n\n    .dataframe tbody tr th {\n        vertical-align: top;\n    }\n\n    .dataframe thead th {\n        text-align: right;\n    }\n</style>\n<table border=\"1\" class=\"dataframe\">\n  <thead>\n    <tr style=\"text-align: right;\">\n      <th></th>\n      <th>First Name</th>\n      <th>Last name</th>\n      <th>Age</th>\n      <th>Residential State</th>\n    </tr>\n  </thead>\n  <tbody>\n    <tr>\n      <th>0</th>\n      <td>Ada</td>\n      <td>Anan</td>\n      <td>19</td>\n      <td>California</td>\n    </tr>\n    <tr>\n      <th>1</th>\n      <td>Bukky</td>\n      <td>Edgar</td>\n      <td>28</td>\n      <td>New York</td>\n    </tr>\n    <tr>\n      <th>2</th>\n      <td>Carlos</td>\n      <td>Inios</td>\n      <td>37</td>\n      <td>Florida</td>\n    </tr>\n    <tr>\n      <th>3</th>\n      <td>Devon</td>\n      <td>Osea</td>\n      <td>46</td>\n      <td>Montana</td>\n    </tr>\n    <tr>\n      <th>4</th>\n      <td>Het</td>\n      <td>Ung</td>\n      <td>55</td>\n      <td>Alaska</td>\n    </tr>\n  </tbody>\n</table>\n</div>"
     },
     "execution_count": 2,
     "metadata": {},
     "output_type": "execute_result"
    }
   ],
   "source": [
    "df = pd.read_csv('pandas.csv')\n",
    "df.head()"
   ],
   "metadata": {
    "collapsed": false,
    "pycharm": {
     "name": "#%%\n"
    }
   }
  },
  {
   "cell_type": "code",
   "execution_count": 5,
   "outputs": [],
   "source": [
    "df['Nationality'] = ['Ghanian', 'Mexican', 'Spanish', 'Hungarian', 'Thai']"
   ],
   "metadata": {
    "collapsed": false,
    "pycharm": {
     "name": "#%%\n"
    }
   }
  },
  {
   "cell_type": "code",
   "execution_count": 6,
   "outputs": [
    {
     "data": {
      "text/plain": "  First Name Last name  Age Residential State Nationality\n0       Slew      Anan   19        California     Ghanian\n1      Bukky     Edgar   28          New York     Mexican\n2     Carlos     Inios   37           Florida     Spanish\n3      Devon      Osea   46           Montana   Hungarian\n4        Het       Ung   55            Alaska        Thai",
      "text/html": "<div>\n<style scoped>\n    .dataframe tbody tr th:only-of-type {\n        vertical-align: middle;\n    }\n\n    .dataframe tbody tr th {\n        vertical-align: top;\n    }\n\n    .dataframe thead th {\n        text-align: right;\n    }\n</style>\n<table border=\"1\" class=\"dataframe\">\n  <thead>\n    <tr style=\"text-align: right;\">\n      <th></th>\n      <th>First Name</th>\n      <th>Last name</th>\n      <th>Age</th>\n      <th>Residential State</th>\n      <th>Nationality</th>\n    </tr>\n  </thead>\n  <tbody>\n    <tr>\n      <th>0</th>\n      <td>Slew</td>\n      <td>Anan</td>\n      <td>19</td>\n      <td>California</td>\n      <td>Ghanian</td>\n    </tr>\n    <tr>\n      <th>1</th>\n      <td>Bukky</td>\n      <td>Edgar</td>\n      <td>28</td>\n      <td>New York</td>\n      <td>Mexican</td>\n    </tr>\n    <tr>\n      <th>2</th>\n      <td>Carlos</td>\n      <td>Inios</td>\n      <td>37</td>\n      <td>Florida</td>\n      <td>Spanish</td>\n    </tr>\n    <tr>\n      <th>3</th>\n      <td>Devon</td>\n      <td>Osea</td>\n      <td>46</td>\n      <td>Montana</td>\n      <td>Hungarian</td>\n    </tr>\n    <tr>\n      <th>4</th>\n      <td>Het</td>\n      <td>Ung</td>\n      <td>55</td>\n      <td>Alaska</td>\n      <td>Thai</td>\n    </tr>\n  </tbody>\n</table>\n</div>"
     },
     "execution_count": 6,
     "metadata": {},
     "output_type": "execute_result"
    }
   ],
   "source": [
    "df.head()"
   ],
   "metadata": {
    "collapsed": false,
    "pycharm": {
     "name": "#%%\n"
    }
   }
  },
  {
   "cell_type": "code",
   "execution_count": 8,
   "outputs": [],
   "source": [
    "df.to_csv('pandas.csv', index=False)"
   ],
   "metadata": {
    "collapsed": false,
    "pycharm": {
     "name": "#%%\n"
    }
   }
  },
  {
   "cell_type": "code",
   "execution_count": 9,
   "outputs": [
    {
     "data": {
      "text/plain": "  First Name Last name  Age Residential State Nationality\n0       Slew      Anan   19        California     Ghanian\n1      Bukky     Edgar   28          New York     Mexican\n2     Carlos     Inios   37           Florida     Spanish\n3      Devon      Osea   46           Montana   Hungarian\n4        Het       Ung   55            Alaska        Thai",
      "text/html": "<div>\n<style scoped>\n    .dataframe tbody tr th:only-of-type {\n        vertical-align: middle;\n    }\n\n    .dataframe tbody tr th {\n        vertical-align: top;\n    }\n\n    .dataframe thead th {\n        text-align: right;\n    }\n</style>\n<table border=\"1\" class=\"dataframe\">\n  <thead>\n    <tr style=\"text-align: right;\">\n      <th></th>\n      <th>First Name</th>\n      <th>Last name</th>\n      <th>Age</th>\n      <th>Residential State</th>\n      <th>Nationality</th>\n    </tr>\n  </thead>\n  <tbody>\n    <tr>\n      <th>0</th>\n      <td>Slew</td>\n      <td>Anan</td>\n      <td>19</td>\n      <td>California</td>\n      <td>Ghanian</td>\n    </tr>\n    <tr>\n      <th>1</th>\n      <td>Bukky</td>\n      <td>Edgar</td>\n      <td>28</td>\n      <td>New York</td>\n      <td>Mexican</td>\n    </tr>\n    <tr>\n      <th>2</th>\n      <td>Carlos</td>\n      <td>Inios</td>\n      <td>37</td>\n      <td>Florida</td>\n      <td>Spanish</td>\n    </tr>\n    <tr>\n      <th>3</th>\n      <td>Devon</td>\n      <td>Osea</td>\n      <td>46</td>\n      <td>Montana</td>\n      <td>Hungarian</td>\n    </tr>\n    <tr>\n      <th>4</th>\n      <td>Het</td>\n      <td>Ung</td>\n      <td>55</td>\n      <td>Alaska</td>\n      <td>Thai</td>\n    </tr>\n  </tbody>\n</table>\n</div>"
     },
     "execution_count": 9,
     "metadata": {},
     "output_type": "execute_result"
    }
   ],
   "source": [
    "df1 = pd.read_csv('pandas.csv')\n",
    "df.head()"
   ],
   "metadata": {
    "collapsed": false,
    "pycharm": {
     "name": "#%%\n"
    }
   }
  },
  {
   "cell_type": "code",
   "execution_count": null,
   "outputs": [],
   "source": [],
   "metadata": {
    "collapsed": false,
    "pycharm": {
     "name": "#%%\n"
    }
   }
  }
 ],
 "metadata": {
  "kernelspec": {
   "display_name": "Python 3",
   "language": "python",
   "name": "python3"
  },
  "language_info": {
   "codemirror_mode": {
    "name": "ipython",
    "version": 2
   },
   "file_extension": ".py",
   "mimetype": "text/x-python",
   "name": "python",
   "nbconvert_exporter": "python",
   "pygments_lexer": "ipython2",
   "version": "2.7.6"
  }
 },
 "nbformat": 4,
 "nbformat_minor": 0
}